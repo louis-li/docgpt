{
 "cells": [
  {
   "cell_type": "code",
   "execution_count": 4,
   "metadata": {},
   "outputs": [
    {
     "data": {
      "text/plain": [
       "<OpenAIObject chat.completion id=chatcmpl-7M6fzB2IIMiTjqm0laZPStE4AsLqm at 0x1e337b35670> JSON: {\n",
       "  \"choices\": [\n",
       "    {\n",
       "      \"finish_reason\": \"stop\",\n",
       "      \"index\": 0,\n",
       "      \"message\": {\n",
       "        \"content\": \"As an AI, I do not have emotions or feelings like humans do, but I am here to assist you. How can I help you today?\",\n",
       "        \"role\": \"assistant\"\n",
       "      }\n",
       "    }\n",
       "  ],\n",
       "  \"created\": 1685503235,\n",
       "  \"id\": \"chatcmpl-7M6fzB2IIMiTjqm0laZPStE4AsLqm\",\n",
       "  \"model\": \"gpt-4\",\n",
       "  \"object\": \"chat.completion\",\n",
       "  \"usage\": {\n",
       "    \"completion_tokens\": 31,\n",
       "    \"prompt_tokens\": 18,\n",
       "    \"total_tokens\": 49\n",
       "  }\n",
       "}"
      ]
     },
     "execution_count": 4,
     "metadata": {},
     "output_type": "execute_result"
    }
   ],
   "source": [
    "#Note: The openai-python library support for Azure OpenAI is in preview.\n",
    "\n",
    "import os\n",
    "\n",
    "import openai\n",
    "\n",
    "openai.api_type = \"azure\"\n",
    "\n",
    "openai.api_base = \"https://dnaopenai.openai.azure.com/\"\n",
    "\n",
    "openai.api_version = \"2023-03-15-preview\"\n",
    "\n",
    "openai.api_key = '57c72d7b427c4d72b6cb70d215728d52'\n",
    "\n",
    " \n",
    "\n",
    "openai.ChatCompletion.create(\n",
    "  engine=\"gpt-4-deployment\",\n",
    "  messages = [{'role':'system','content':'you are an agent'},\n",
    "               {'role':'user','content':'How are you?'}],\n",
    "  temperature=0.7,\n",
    "  max_tokens=800,\n",
    "  top_p=0.95,\n",
    "  frequency_penalty=0,\n",
    "  presence_penalty=0,\n",
    "  stop=None)"
   ]
  },
  {
   "cell_type": "code",
   "execution_count": null,
   "metadata": {},
   "outputs": [],
   "source": []
  }
 ],
 "metadata": {
  "kernelspec": {
   "display_name": "gpt",
   "language": "python",
   "name": "python3"
  },
  "language_info": {
   "codemirror_mode": {
    "name": "ipython",
    "version": 3
   },
   "file_extension": ".py",
   "mimetype": "text/x-python",
   "name": "python",
   "nbconvert_exporter": "python",
   "pygments_lexer": "ipython3",
   "version": "3.10.10"
  },
  "orig_nbformat": 4
 },
 "nbformat": 4,
 "nbformat_minor": 2
}
